{
 "cells": [
  {
   "cell_type": "code",
   "execution_count": 19,
   "metadata": {},
   "outputs": [
    {
     "name": "stdout",
     "output_type": "stream",
     "text": [
      "f(x)=e ** x - x ** 2 - log(x)\n",
      "Input [a,b]\n",
      "0.1 5\n",
      "min=1.1559228074937802\n"
     ]
    },
    {
     "data": {
      "image/png": "[encoded data removed]",
      "text/plain": [
       "<Figure size 432x288 with 1 Axes>"
      ]
     },
     "metadata": {
      "needs_background": "light"
     },
     "output_type": "display_data"
    }
   ],
   "source": [
    "import matplotlib.pyplot as plt\n",
    "import numpy as np\n",
    "from numpy import sin,cos,pi,e,log\n",
    "\n",
    "#黄金分割法\n",
    "def gsec(f,a,b,eps = 1e-3):\n",
    "    ratio = (np.sqrt(5) - 1) / 2\n",
    "    while (b - a) > eps:\n",
    "        a2,a1 = a + (b - a) * ratio,b - (b - a) * ratio\n",
    "        if f(a1) <= f(a2):\n",
    "            b = a2\n",
    "        else:\n",
    "            a = a1\n",
    "    return (a + b) / 2\n",
    "\n",
    "#输入函数表达式，自变量为x\n",
    "func = input(\"f(x)=\")\n",
    "f = lambda x:eval(func)\n",
    "#输入要计算的区间\n",
    "interval = input(\"Input [a,b]\\n\")\n",
    "a,b = float(interval.split(' ')[0]),float(interval.split(' ')[1])\n",
    "x = np.linspace(a,b,int((b - a) * 50)) #长度为1的区间里采50个点\n",
    "y = [f(float(x0)) for x0 in x]\n",
    "\n",
    "#输出黄金分割的结果\n",
    "print(\"min={}\".format(gsec(f,a,b)))\n",
    "x_min = gsec(f,a,b)\n",
    "y_min = f(x_min)\n",
    "\n",
    "#画图\n",
    "plt.figure()\n",
    "plt.plot(x, y)\n",
    "plt.plot(x_min,y_min,'o')\n",
    "plt.show()"
   ]
  },
  {
   "cell_type": "code",
   "execution_count": null,
   "metadata": {},
   "outputs": [],
   "source": []
  }
 ],
 "metadata": {
  "kernelspec": {
   "display_name": "Python 3",
   "language": "python",
   "name": "python3"
  },
  "language_info": {
   "codemirror_mode": {
    "name": "ipython",
    "version": 3
   },
   "file_extension": ".py",
   "mimetype": "text/x-python",
   "name": "python",
   "nbconvert_exporter": "python",
   "pygments_lexer": "ipython3",
   "version": "3.8.3"
  }
 },
 "nbformat": 4,
 "nbformat_minor": 4
}
