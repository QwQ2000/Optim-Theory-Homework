{
 "cells": [
  {
   "cell_type": "code",
   "execution_count": 53,
   "metadata": {},
   "outputs": [
    {
     "name": "stdout",
     "output_type": "stream",
     "text": [
      "f(x,y)=x**2/100+y**2\n",
      "Input the interval [a1,b1] of x\n",
      "0.8 1.2\n",
      "Input the interval [a2,b2] of y\n",
      "-1.5 1.5\n"
     ]
    },
    {
     "data": {
      "image/png": "[encoded data removed]",
      "text/plain": [
       "<Figure size 432x288 with 1 Axes>"
      ]
     },
     "metadata": {
      "needs_background": "light"
     },
     "output_type": "display_data"
    },
    {
     "data": {
      "text/plain": [
       "<Figure size 1200x800 with 0 Axes>"
      ]
     },
     "metadata": {},
     "output_type": "display_data"
    }
   ],
   "source": [
    "import numpy as np\n",
    "import matplotlib.pyplot as plt\n",
    "from torch import exp,log,sin,cos,tensor\n",
    "import random\n",
    "\n",
    "#测试用例1 (1 - x / 2 + x ** 5 + y ** 3) * exp(-x ** 2 - y ** 2) [-2.5,-0.5] [-2.5,2.5]\n",
    "#测试用例2 x**2/100+y**2 [6,12] [-2,2]\n",
    "\n",
    "f_expr = input(\"f(x,y)=\") #读入二元函数表达式\n",
    "f = lambda x,y:eval(f_expr)\n",
    "intx = input(\"Input the interval [a1,b1] of x\\n\") #读入x和y的区间\n",
    "inty = input(\"Input the interval [a2,b2] of y\\n\")\n",
    "a1,b1 = float(intx.split(' ')[0]),float(intx.split(' ')[1])\n",
    "a2,b2 = float(inty.split(' ')[0]),float(inty.split(' ')[1])\n",
    "\n",
    "n_points = 100 #长度为1的区间内取多少采样点\n",
    "#x[i][j]和y[i][j]分别表示第i行第j列的采样点的x值与y值\n",
    "x, y = np.meshgrid(np.linspace(a1, b1, int(n_points * (b1 - a1))),\n",
    "                   np.linspace(b2, a2, int(n_points * (b2 - a2))))\n",
    "\n",
    "#根据输入的函数计算所有的z值，为等高线图作准备\n",
    "z = np.zeros(x.shape)\n",
    "for i in range(z.shape[0]):\n",
    "    for j in range(z.shape[1]):\n",
    "        #这里不需要进行自动求导，构造的torch张量就不需要计算梯度了，提高计算速度\n",
    "        z[i][j] = f(tensor(x[i][j],requires_grad = False),tensor(y[i][j],requires_grad = False)).numpy()\n",
    "\n",
    "#首先绘制等高线图\n",
    "plt.figure('Gradient Descent')\n",
    "plt.title('Gradient Descent')\n",
    "fig = plt.contour(x, y, z, 5, colors = 'black', linewidths = 0.5)\n",
    "plt.clabel(fig, inline_spacing = 0.5, fmt = '%.1f', fontsize = 11)\n",
    "\n",
    "lr,eps,max_n = 0.8,1e-3,5 #学习率，最小梯度阈值，最大梯度下降次数\n",
    "random.seed(1) #固定随机种子便于调试\n",
    "#用区间内的随机值初始化x0和y0\n",
    "#x0_v,y0_v = random.uniform(a1,b1),random.uniform(a2,b2)\n",
    "x0_v,y0_v = 1.0,1.0\n",
    "plt.plot(x0_v,y0_v,marker = 'o',color = 'orange',markersize = 3) #画出起始点\n",
    "x0 = tensor(x0_v,requires_grad = True)\n",
    "y0 = tensor(y0_v,requires_grad = True)\n",
    "x,y,dx,dy = [],[],[],[] #梯度下降过程数据\n",
    "#开始梯度下降过程\n",
    "for i in range(max_n):\n",
    "    z0 = f(x0,y0)\n",
    "    #自动求导\n",
    "    z0.backward()\n",
    "    \n",
    "    #x,y以及二者偏导数的值，去掉torch计算的梯度\n",
    "    x_v,y_v,x_g,y_g = x0.detach().numpy(),y0.detach().numpy(),x0.grad.detach().numpy(),y0.grad.detach().numpy()\n",
    "    x.append(x_v)\n",
    "    y.append(y_v)\n",
    "    dx.append(- lr * x_g)\n",
    "    dy.append(-lr * y_g)\n",
    "    #梯度约等于0可以视为局部最优解\n",
    "    if (x_v ** 2 + y_v ** 2) ** 0.5 < eps:\n",
    "        break\n",
    "    #重新构造torch张量，为下次梯度计算做准备\n",
    "    x0 = tensor(x_v - lr * x_g,requires_grad = True)\n",
    "    y0 = tensor(y_v - lr * y_g,requires_grad = True)\n",
    "\n",
    "#画出梯度下降过程图\n",
    "plt.quiver(x,y,dx,dy,angles = 'xy', scale_units = 'xy',scale = 1,width = 0.004,color = '#000080')\n",
    "plt.figure(dpi = 200)\n",
    "plt.show()"
   ]
  },
  {
   "cell_type": "markdown",
   "metadata": {},
   "source": [
    "$\\textbf{题目：}f(X)=-ln(|X|),其中X为方阵,求\\nabla f.\\\\\n",
    "\\textbf{解答：}不妨设X为n阶方阵，则|X|=\\Sigma_{i=1}^{n}\\Sigma_{j=1}^{n}(-1)^{i+j}X_{ij}M_{ij}，其中M_{ij}为i,j处代数余子式.\\\\\n",
    "对于矩阵X的任意元素X_{ij}，有\\frac{\\partial |X|}{\\partial X_{ij}}=(-1)^{i+j}M_{ij}=X^*_{ji}.\\\\\n",
    "则有\\nabla_X |X|=(X^*)^T，则\\nabla f=-\\frac{1}{|X|}\\nabla_X |X|=-\\frac{1}{|X|}|X|(X^{-1})^T=-(X^{-1})^T$"
   ]
  },
  {
   "cell_type": "code",
   "execution_count": null,
   "metadata": {},
   "outputs": [],
   "source": []
  }
 ],
 "metadata": {
  "kernelspec": {
   "display_name": "Python 3",
   "language": "python",
   "name": "python3"
  },
  "language_info": {
   "codemirror_mode": {
    "name": "ipython",
    "version": 3
   },
   "file_extension": ".py",
   "mimetype": "text/x-python",
   "name": "python",
   "nbconvert_exporter": "python",
   "pygments_lexer": "ipython3",
   "version": "3.8.3"
  }
 },
 "nbformat": 4,
 "nbformat_minor": 4
}
