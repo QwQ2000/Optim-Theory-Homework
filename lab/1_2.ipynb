{
 "cells": [
  {
   "cell_type": "code",
   "execution_count": 53,
   "metadata": {},
   "outputs": [
    {
     "name": "stdout",
     "output_type": "stream",
     "text": [
      "The original argument matrix:\n",
      "[0.         0.         0.         0.         0.         0.\n",
      " 0.         0.         0.         0.         0.95915277 0.\n",
      " 0.         0.         0.         0.         0.9936685  0.\n",
      " 0.95778747 0.        ]\n",
      "The argument matrix calculated with ISTA:\n",
      "[-0.          0.          0.          0.         -0.         -0.\n",
      "  0.          0.         -0.          0.          0.92554162  0.\n",
      " -0.          0.         -0.          0.          0.93661602  0.\n",
      "  0.91204185  0.        ]\n"
     ]
    },
    {
     "data": {
      "image/png": "[encoded data removed]",
      "text/plain": [
       "<Figure size 432x288 with 1 Axes>"
      ]
     },
     "metadata": {
      "needs_background": "light"
     },
     "output_type": "display_data"
    }
   ],
   "source": [
    "#ISTA求解LASSO问题\n",
    "\n",
    "import numpy as np\n",
    "from scipy import linalg\n",
    "import matplotlib.pyplot as plt\n",
    "\n",
    "rng = np.random.RandomState(49) #确定随机种子，便于复现\n",
    "m, n = 15, 20\n",
    "\n",
    "X = rng.randn(m, n) #随机初始化数据集中的X\n",
    "\n",
    "w0 = rng.rand(n) #随机初始化真实的参数矩阵,使其稀疏化\n",
    "w0[w0 < 0.9] = 0 \n",
    "Y = np.dot(X, w0) #随机初始化数据集中的Y \n",
    "l = 0.8 #L1正则项的系数\n",
    "\n",
    "def soft_thresh(x, l): #软阈值函数\n",
    "    return np.sign(x) * np.maximum(np.abs(x) - l, 0.)\n",
    "\n",
    "def ista(X, Y, l, max_it):\n",
    "    w = np.zeros(A.shape[1])\n",
    "    losses = []\n",
    "    L = linalg.norm(A) ** 2  #Lipschitz常数\n",
    "    for i in range(maxit):\n",
    "        w = soft_thresh(w + np.dot(X.T, Y - X.dot(w)) / L, l / L) #进行ISTA迭代过程\n",
    "        loss = 0.5 * linalg.norm(X.dot(w) - Y) ** 2 + l * linalg.norm(w, 1) #损失函数的值\n",
    "        losses.append(loss)\n",
    "\n",
    "    return w,losses\n",
    "\n",
    "max_it = 3000 #最大迭代次数\n",
    "w,losses = ista(X,Y,l, max_it)\n",
    "\n",
    "#输出结果\n",
    "print('The original argument matrix:')\n",
    "print(w0)\n",
    "print('The argument matrix calculated with ISTA:')\n",
    "print(w)\n",
    "\n",
    "#损失函数下降过程可视化\n",
    "plt.figure()\n",
    "plt.plot(losses, label = 'ista')\n",
    "plt.xlabel('Iteration Epoch')\n",
    "plt.ylabel('Loss Function')\n",
    "plt.legend()\n",
    "plt.show()"
   ]
  },
  {
   "cell_type": "code",
   "execution_count": null,
   "metadata": {},
   "outputs": [],
   "source": []
  }
 ],
 "metadata": {
  "kernelspec": {
   "display_name": "Python 3",
   "language": "python",
   "name": "python3"
  },
  "language_info": {
   "codemirror_mode": {
    "name": "ipython",
    "version": 3
   },
   "file_extension": ".py",
   "mimetype": "text/x-python",
   "name": "python",
   "nbconvert_exporter": "python",
   "pygments_lexer": "ipython3",
   "version": "3.8.3"
  }
 },
 "nbformat": 4,
 "nbformat_minor": 4
}
