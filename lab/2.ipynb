{
 "cells": [
  {
   "cell_type": "code",
   "execution_count": 18,
   "metadata": {
    "scrolled": true
   },
   "outputs": [
    {
     "name": "stdout",
     "output_type": "stream",
     "text": [
      "The desired output is 0.5.\n",
      "The output of the model is 0.5003159203288151.\n"
     ]
    },
    {
     "data": {
      "image/png": "[encoded data removed]",
      "text/plain": [
       "<Figure size 432x288 with 1 Axes>"
      ]
     },
     "metadata": {
      "needs_background": "light"
     },
     "output_type": "display_data"
    }
   ],
   "source": [
    "import matplotlib.pyplot as plt\n",
    "\n",
    "i,w = 1.5,0.8\n",
    "y = 0.5\n",
    "loss = (i * w - y) ** 2\n",
    "lr = 0.001\n",
    "losses = [loss]\n",
    "\n",
    "while loss > 1e-7:\n",
    "    g = 2 * (i * w - y) * i #计算w的梯度\n",
    "    w = w - lr * g #进行梯度下降\n",
    "    loss = (i * w - y) ** 2 #计算损失函数\n",
    "    losses.append(loss)\n",
    "\n",
    "print('The desired output is {}.\\nThe output of the model is {}.'.format(y,i * w))\n",
    "plt.xlabel('Iteration')\n",
    "plt.ylabel('Loss')\n",
    "plt.plot(losses) #可视化梯度下降过程 \n",
    "plt.show()"
   ]
  },
  {
   "cell_type": "code",
   "execution_count": 544,
   "metadata": {},
   "outputs": [],
   "source": [
    "import numpy as np\n",
    "\n",
    "class Linear:\n",
    "    def __init__(self,in_dim,out_dim):\n",
    "        self.out_dim = out_dim\n",
    "        self.w = np.random.randn(in_dim,out_dim) * 0.1\n",
    "        self.b = np.random.randn(1,out_dim) * 0.1\n",
    "        \n",
    "    def forward(self,x):\n",
    "        self.cache = np.array(x)\n",
    "        return np.dot(x,self.w) + self.b\n",
    "    \n",
    "    def backward(self,g):\n",
    "        x = self.cache\n",
    "        self.g_w = np.dot(x.T,g)\n",
    "        self.g_b = g\n",
    "        return np.dot(g,self.w.T)\n",
    "    \n",
    "    def optimize(self,lr):\n",
    "        self.w = self.w - lr * self.g_w\n",
    "        self.b = self.b - lr * self.g_b\n",
    "\n",
    "class Sigmoid:\n",
    "    def __init__(self):\n",
    "        pass\n",
    "    \n",
    "    def __s(self,x):\n",
    "        return 1 / (1 + np.exp(-x))\n",
    "    \n",
    "    def forward(self,x):\n",
    "        self.cache = np.array(x)\n",
    "        return self.__s(x)\n",
    "    \n",
    "    def backward(self,g):\n",
    "        x = self.cache\n",
    "        return g * self.__s(x) * (1 - self.__s(x))\n",
    "    \n",
    "    def optimize(self,lr):\n",
    "        return None\n",
    "    \n",
    "class MSELoss:\n",
    "    def __init__(self):\n",
    "        pass\n",
    "    \n",
    "    def forward(self,pred,y):\n",
    "        self.cache = (np.array(pred),np.array(y))\n",
    "        return (y - pred) ** 2\n",
    "    \n",
    "    def backward(self):\n",
    "        pred,y = self.cache[0],self.cache[1]\n",
    "        return -2 * (y - pred)\n",
    "\n",
    "class Sequential:\n",
    "    def __init__(self,*models):\n",
    "        self.models = models\n",
    "    \n",
    "    def forward(self,x):\n",
    "        x0 = x\n",
    "        for m in self.models:\n",
    "            x0 = m.forward(x0)\n",
    "        return x0\n",
    "    \n",
    "    def backward(self,loss_g):\n",
    "        g = loss_g\n",
    "        for i in range(len(self.models) - 1,-1,-1):\n",
    "            g = self.models[i].backward(g)\n",
    "            \n",
    "    def optimize(self,lr):\n",
    "        for m in self.models:\n",
    "            m.optimize(lr)"
   ]
  },
  {
   "cell_type": "code",
   "execution_count": 556,
   "metadata": {},
   "outputs": [
    {
     "data": {
      "image/png": "[encoded data removed]",
      "text/plain": [
       "<Figure size 432x288 with 1 Axes>"
      ]
     },
     "metadata": {
      "needs_background": "light"
     },
     "output_type": "display_data"
    }
   ],
   "source": [
    "import matplotlib.pyplot as plt\n",
    "\n",
    "model = Sequential(Linear(2,2),Sigmoid(),Linear(2,1),Sigmoid())\n",
    "criterion = MSELoss()\n",
    "X = [np.array([[0,0]]),np.array([[0,1]]),np.array([[1,0]]),np.array([[1,1]])]\n",
    "Y = [0,1,1,0]\n",
    "\n",
    "n_epochs = 30000\n",
    "milestones = range(0,n_epochs,500)\n",
    "losses = []\n",
    "for epoch in range(n_epochs):\n",
    "    loss = []\n",
    "    for i in range(len(X)):\n",
    "        x,y = X[i],Y[i]\n",
    "        pred = model.forward(x)\n",
    "        loss.append(criterion.forward(pred,y))\n",
    "        loss_g = criterion.backward()\n",
    "        model.backward(loss_g)\n",
    "        model.optimize(1e-1)\n",
    "        \n",
    "    if epoch in milestones:\n",
    "        losses.append(np.mean(np.array(loss)))\n",
    "\n",
    "plt.xlabel('Epoch')\n",
    "plt.ylabel('Loss')\n",
    "plt.plot(milestones,losses) #可视化梯度下降过程 \n",
    "plt.show()"
   ]
  },
  {
   "cell_type": "code",
   "execution_count": 557,
   "metadata": {},
   "outputs": [
    {
     "data": {
      "text/plain": [
       "array([[0.01538872],\n",
       "       [0.98375523],\n",
       "       [0.98373989],\n",
       "       [0.02008491]])"
      ]
     },
     "execution_count": 557,
     "metadata": {},
     "output_type": "execute_result"
    }
   ],
   "source": [
    "#展示异或问题的结果\n",
    "model.forward(np.array([[0,0],[0,1],[1,0],[1,1]]))"
   ]
  },
  {
   "cell_type": "code",
   "execution_count": null,
   "metadata": {},
   "outputs": [],
   "source": []
  }
 ],
 "metadata": {
  "kernelspec": {
   "display_name": "Python 3",
   "language": "python",
   "name": "python3"
  },
  "language_info": {
   "codemirror_mode": {
    "name": "ipython",
    "version": 3
   },
   "file_extension": ".py",
   "mimetype": "text/x-python",
   "name": "python",
   "nbconvert_exporter": "python",
   "pygments_lexer": "ipython3",
   "version": "3.8.3"
  }
 },
 "nbformat": 4,
 "nbformat_minor": 4
}
